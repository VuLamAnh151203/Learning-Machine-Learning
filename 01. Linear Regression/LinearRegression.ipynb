{
  "nbformat": 4,
  "nbformat_minor": 0,
  "metadata": {
    "colab": {
      "provenance": []
    },
    "kernelspec": {
      "name": "python3",
      "display_name": "Python 3"
    },
    "language_info": {
      "name": "python"
    }
  },
  "cells": [
    {
      "cell_type": "code",
      "execution_count": null,
      "metadata": {
        "id": "rC8HxmlIiubE"
      },
      "outputs": [],
      "source": [
        "import numpy as np\n",
        "import matplotlib.pyplot as plt"
      ]
    },
    {
      "cell_type": "code",
      "source": [
        "class LinearRegression():\n",
        "  def __init__(self):\n",
        "    self.b_hat = None\n",
        "\n",
        "  def fit(self, X : np.array, y: np.array, bias = False):\n",
        "    self.m, self.n = X.shape\n",
        "    if bias == True:\n",
        "      b = np.ones((self.m,1))\n",
        "      X = np.concatenate((X, b), axis = 1)\n",
        "\n",
        "    self.X = X\n",
        "    self.y = y\n",
        "\n",
        "    XtX = np.dot(self.X.T, self.X) # (n+1)xm * mx(n+1) -> (n+1) x (n+1)\n",
        "    inv_XtX = np.linalg.inv(XtX) # (n+1) x (n+1)\n",
        "    self.b_hat = np.dot(np.dot(inv_XtX, self.X.T), self.y) # (n+1) x 1\n",
        "\n",
        "    self.b_hat = self.b_hat.reshape(-1,1)\n",
        "    self._intercept = self.b_hat[-1, :]\n",
        "    self._coefficient = self.b_hat[:-1,:]\n",
        "\n",
        "  def fit_yet(self):\n",
        "    if self.b_hat is None:\n",
        "      return False\n",
        "    return True\n",
        "  def predict(self,X_test):\n",
        "    if not self.fit_yet():\n",
        "      print(\"Not fit yet\")\n",
        "      return\n",
        "    return np.dot(X_test, self._coefficient) + self._intercept\n",
        "\n",
        "  def loss(self, X_test, y_test):\n",
        "    y_hat = self.predict(X_test)\n",
        "    loss = (1/(2*self.m)) * np.sum(np.square((y_hat.reshape(self.m,) - y_test)))\n",
        "\n",
        "    return loss\n",
        "\n"
      ],
      "metadata": {
        "id": "eI3zuWOijA2_"
      },
      "execution_count": null,
      "outputs": []
    },
    {
      "cell_type": "markdown",
      "source": [
        "#2. Using Gradient Descent"
      ],
      "metadata": {
        "id": "cy5eW7FEtdfL"
      }
    },
    {
      "cell_type": "code",
      "source": [
        "class LinearRegressionGD():\n",
        "  def __init__(self,lamda, learning_rate, n_interations = 10000):\n",
        "    self.alpha = learning_rate\n",
        "    self.lamda = lamda\n",
        "    self.n_interations = n_interations\n",
        "    self.weights = None\n",
        "    self.bias = None\n",
        "\n",
        "\n",
        "\n",
        "  def fit(self, X, y):\n",
        "    self.m, self.n = X.shape\n",
        "    self.weights = np.random.rand(self.n,1)\n",
        "    self.bias = 0\n",
        "    y = y.reshape(self.m,1)\n",
        "    for i in range(self.n_interations):\n",
        "      prediction = np.dot(X, self.weights) + self.bias\n",
        "      residual = prediction - y\n",
        "      dj_dw = (1/self.m) * np.dot(X.T,residual)   # n x 1\n",
        "      dj_db = (1/self.m) * np.sum(residual) # 1\n",
        "\n",
        "      self.weights = self.weights - self.alpha * dj_dw\n",
        "      self.bias = self.bias - self.alpha * dj_db\n",
        "\n",
        "    print(\"Traning success...\")\n",
        "\n",
        "  def fitRidge(self, X, y):\n",
        "    self.m, self.n = X.shape\n",
        "    self.weights = np.random.rand(self.n,1)\n",
        "    self.bias = 0\n",
        "    y = y.reshape(self.m,1)\n",
        "    for i in range(self.n_interations):\n",
        "      prediction = np.dot(X, self.weights) + self.bias\n",
        "      residual = prediction - y\n",
        "      dj_dw = (1/self.m) * (np.dot(X.T,residual) + self.lamda * self.weights)  # n x 1\n",
        "      dj_db = (1/self.m) * np.sum(residual) # 1\n",
        "\n",
        "      self.weights = self.weights - self.alpha * dj_dw\n",
        "      self.bias = self.bias - self.alpha * dj_db\n",
        "\n",
        "\n",
        "  def fitLasso(self, X, y):\n",
        "    self.m, self.n = X.shape\n",
        "    self.weights = np.random.rand(self.n,1)\n",
        "    self.bias = 0\n",
        "    y = y.reshape(self.m,1)\n",
        "    for i in range(self.n_interations):\n",
        "      prediction = np.dot(X, self.weights) + self.bias\n",
        "      residual = prediction - y\n",
        "      dj_dw = (1/self.m) * (np.dot(X.T,residual) + self.lamda * (np.abs(self.weights)/ self.weights))  # n x 1\n",
        "      dj_db = (1/self.m) * np.sum(residual) # 1\n",
        "\n",
        "      self.weights = self.weights - self.alpha * dj_dw\n",
        "      self.bias = self.bias - self.alpha * dj_db\n",
        "\n",
        "  def predict(self, X_test):\n",
        "    return np.dot(X_test, self.weights) + self.bias\n",
        "\n",
        "  def loss(self, X_test, y):\n",
        "    y_hat = self.predict(X_test)\n",
        "    y = y.shape(self.m,1)\n",
        "    loss = (1/(2*self.m)) * np.sum(np.square(y_hat - y))\n",
        "\n",
        "    return loss\n"
      ],
      "metadata": {
        "id": "vpUcWU6Ejuel"
      },
      "execution_count": null,
      "outputs": []
    },
    {
      "cell_type": "code",
      "source": [
        "linear_model = LinearRegressionGD(lamda = 0.1, learning_rate = 0.1)"
      ],
      "metadata": {
        "id": "ZDQzjvSx2NcQ"
      },
      "execution_count": null,
      "outputs": []
    },
    {
      "cell_type": "code",
      "source": [
        "linear_model.fitLasso(X,y)"
      ],
      "metadata": {
        "id": "vksi8bVC2Xtv"
      },
      "execution_count": null,
      "outputs": []
    },
    {
      "cell_type": "code",
      "source": [
        "linear_model.weights"
      ],
      "metadata": {
        "colab": {
          "base_uri": "https://localhost:8080/"
        },
        "id": "aF-1EKP72bnW",
        "outputId": "b2937b67-a9d3-4b63-abd9-404eb06d0356"
      },
      "execution_count": null,
      "outputs": [
        {
          "output_type": "execute_result",
          "data": {
            "text/plain": [
              "array([[0.9854858 ],\n",
              "       [1.98467608]])"
            ]
          },
          "metadata": {},
          "execution_count": 141
        }
      ]
    }
  ]
}