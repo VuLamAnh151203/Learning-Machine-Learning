{
  "nbformat": 4,
  "nbformat_minor": 0,
  "metadata": {
    "colab": {
      "provenance": []
    },
    "kernelspec": {
      "name": "python3",
      "display_name": "Python 3"
    },
    "language_info": {
      "name": "python"
    }
  },
  "cells": [
    {
      "cell_type": "code",
      "source": [
        "import numpy as np\n",
        "from collections import Counter"
      ],
      "metadata": {
        "id": "BkeUtJym6oof"
      },
      "execution_count": null,
      "outputs": []
    },
    {
      "cell_type": "code",
      "source": [
        "def euclidian_distance(x1, x2):\n",
        "  return np.sqrt(np.sum((x1-x2)**2))"
      ],
      "metadata": {
        "id": "w-iiN4QA6Tc9"
      },
      "execution_count": null,
      "outputs": []
    },
    {
      "cell_type": "code",
      "execution_count": null,
      "metadata": {
        "id": "mo6rtmd623Es"
      },
      "outputs": [],
      "source": [
        "class KNN():\n",
        "  def __init__(self, n_neighbors = 10):\n",
        "    self.n_neighbors = n_neighbors\n",
        "\n",
        "  def fit(self, X, y):\n",
        "    self.X = X\n",
        "    self.y = y\n",
        "\n",
        "  def predict(self,X):\n",
        "    predicted_label = [self._predict(x) for x in X]\n",
        "    return np.array(predicted_label)\n",
        "\n",
        "  def _predict(self, x):\n",
        "    # Compute the distance of each sample in X_test to self.X\n",
        "    distance = np.array([euclidian_distance(x, x_train) for x_train in self.X])\n",
        "\n",
        "    # sort the most k- nearest distance:\n",
        "    k_indicies = np.argsort(distance)[:self.n_neighbors]\n",
        "    k_nearest_label = [self.y[i] for i in k_indicies]\n",
        "\n",
        "    # Majority vote:\n",
        "    label = Counter(k_nearest_label).most_common(1)[0][0]\n",
        "\n",
        "    return label\n",
        "\n",
        "  def score(self, X, y):\n",
        "    prediction = self.predict(X)\n",
        "    return np.sum(prediction == y) / len(y)\n",
        "\n",
        "\n",
        "\n",
        "\n",
        "\n"
      ]
    },
    {
      "cell_type": "code",
      "source": [
        "from sklearn import datasets\n",
        "iris_data = datasets.load_iris()"
      ],
      "metadata": {
        "id": "o4JMygLbAfRf"
      },
      "execution_count": null,
      "outputs": []
    },
    {
      "cell_type": "code",
      "source": [
        "data = iris_data[\"data\"]\n",
        "target = iris_data[\"target\"]"
      ],
      "metadata": {
        "id": "QTkT1k-GAqHh"
      },
      "execution_count": null,
      "outputs": []
    },
    {
      "cell_type": "code",
      "source": [
        "from sklearn.model_selection import train_test_split\n",
        "X_train, X_test, y_train, y_test = train_test_split(data, target, test_size = 0.2, shuffle = True)"
      ],
      "metadata": {
        "id": "Xi23QVxVAy5p"
      },
      "execution_count": null,
      "outputs": []
    },
    {
      "cell_type": "code",
      "source": [
        "knn = KNN(n_neighbors=5)\n",
        "knn.fit(X_train, y_train)"
      ],
      "metadata": {
        "id": "pMGOWWPFBGOe"
      },
      "execution_count": null,
      "outputs": []
    },
    {
      "cell_type": "code",
      "source": [
        "knn.predict(X_test)"
      ],
      "metadata": {
        "colab": {
          "base_uri": "https://localhost:8080/"
        },
        "id": "3QU9rGMuBL7W",
        "outputId": "43653f3e-5d6d-4e2f-bebf-affb3d1df7d0"
      },
      "execution_count": null,
      "outputs": [
        {
          "output_type": "execute_result",
          "data": {
            "text/plain": [
              "array([0, 1, 0, 1, 2, 2, 0, 0, 2, 1, 2, 0, 2, 0, 2, 2, 1, 0, 2, 2, 1, 2,\n",
              "       2, 2, 0, 0, 0, 2, 0, 0])"
            ]
          },
          "metadata": {},
          "execution_count": 74
        }
      ]
    }
  ]
}